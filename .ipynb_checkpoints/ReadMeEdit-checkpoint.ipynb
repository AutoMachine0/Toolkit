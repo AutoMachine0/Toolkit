{
 "cells": [
  {
   "cell_type": "markdown",
   "metadata": {},
   "source": [
    "## 导航\n",
    "#### git工具\n",
    "1.[git](https://github.com/AutoMachine0/Toolkit/blob/main/git%E5%B7%A5%E5%85%B7/git.ipynb)\n",
    "#### python工具\n",
    "1.[matplotlib_作图](https://github.com/AutoMachine0/Toolkit/blob/main/python%E5%B7%A5%E5%85%B7/matplotlib_%E4%BD%9C%E5%9B%BE.ipynb)\n",
    "\n",
    "2.[ray_函数与类并行](https://github.com/AutoMachine0/Toolkit/blob/main/python%E5%B7%A5%E5%85%B7/ray_%E5%87%BD%E6%95%B0%E4%B8%8E%E7%B1%BB%E5%B9%B6%E8%A1%8C.ipynb)\n",
    "\n",
    "3.[tornado_web服务端应用](https://github.com/AutoMachine0/Toolkit/blob/main/python%E5%B7%A5%E5%85%B7/tornado_web%E6%9C%8D%E5%8A%A1%E7%AB%AF%E5%BA%94%E7%94%A8.ipynb)\n",
    "\n",
    "4.[os_获取当前绝对路径](https://github.com/AutoMachine0/Toolkit/blob/main/python%E5%B7%A5%E5%85%B7/os_%E8%8E%B7%E5%8F%96%E5%BD%93%E5%89%8D%E7%BB%9D%E5%AF%B9%E8%B7%AF%E5%BE%84.ipynb)\n",
    "\n",
    "5.[sched_定时任务](https://github.com/AutoMachine0/Toolkit/blob/main/python%E5%B7%A5%E5%85%B7/sched_%E5%AE%9A%E6%97%B6%E4%BB%BB%E5%8A%A1.ipynb)\n",
    "\n",
    "6.[re_字符串过滤](https://github.com/AutoMachine0/Toolkit/blob/main/python%E5%B7%A5%E5%85%B7/re_%E5%AD%97%E7%AC%A6%E4%B8%B2%E8%BF%87%E6%BB%A4.ipynb)\n",
    "\n",
    "7.[os_使用应用名进行进程守护](https://github.com/AutoMachine0/Toolkit/blob/main/python%E5%B7%A5%E5%85%B7/os_%E4%BD%BF%E7%94%A8%E5%BA%94%E7%94%A8%E5%90%8D%E8%BF%9B%E8%A1%8C%E8%BF%9B%E7%A8%8B%E5%AE%88%E6%8A%A4.ipynb)"
   ]
  }
 ],
 "metadata": {
  "kernelspec": {
   "display_name": "Python [conda env:root] *",
   "language": "python",
   "name": "conda-root-py"
  },
  "language_info": {
   "codemirror_mode": {
    "name": "ipython",
    "version": 3
   },
   "file_extension": ".py",
   "mimetype": "text/x-python",
   "name": "python",
   "nbconvert_exporter": "python",
   "pygments_lexer": "ipython3",
   "version": "3.8.3"
  }
 },
 "nbformat": 4,
 "nbformat_minor": 4
}
