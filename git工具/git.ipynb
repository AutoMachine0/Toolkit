{
 "cells": [
  {
   "cell_type": "markdown",
   "metadata": {},
   "source": [
    "## github远程私有仓库不显示markdown图片，公开仓库可以正常显示markdown图片"
   ]
  },
  {
   "cell_type": "markdown",
   "metadata": {},
   "source": [
    "<img src=\"pic/1.png\"/>"
   ]
  },
  {
   "cell_type": "markdown",
   "metadata": {},
   "source": [
    "![pic](pic/2.png)\n",
    "![pic](pic/3.png)"
   ]
  },
  {
   "cell_type": "markdown",
   "metadata": {},
   "source": [
    "![pic](pic/4.png)\n",
    "![pic](pic/5.png)"
   ]
  },
  {
   "cell_type": "markdown",
   "metadata": {},
   "source": [
    "![pic](pic/6.png)"
   ]
  },
  {
   "cell_type": "markdown",
   "metadata": {},
   "source": [
    "![pic](pic/7.png)"
   ]
  },
  {
   "cell_type": "markdown",
   "metadata": {},
   "source": [
    "![pic](pic/8.png)"
   ]
  },
  {
   "cell_type": "markdown",
   "metadata": {},
   "source": [
    "## 本地git库与远程git连接与通信\n",
    "### 在不同的机器上git文件，先拉取远程最新分支到本地(在ubuntu和window切换使用git时注意使用):\n",
    "1. git remote -v 查看当前远程分支;\n",
    "2. git branch -a 输出中: remote/远程库名/分支名;\n",
    "3. git fetch gitee master(远程库名,分支名) 获取最新代码到本地;\n",
    "4. git log -p master gitee/master(本地分支名，远程库名/分支名)，查看本地分支与远程分支版本差异;\n",
    "5. git merge gitee/master(远程库名/分支名),合并本地分支;\n",
    "6. 之后才能git push gitee master本地分支的更新到远程分支.\n",
    "\n",
    "#################################################\n",
    "1. ssh-keygen -t rsa -C \"ncucjm@163.com\"\n",
    "2. 在home目录，cd .ssh 打开隐藏目录\n",
    "3. gedit id_rsa.pub 打开公钥文件复制全部内容\n",
    "4. 在远程ssh设置中添加秘钥\n",
    "5. 以ssh方式克隆远程库到本地:git clone git@github.com:AutoMachine0/Toolkit.git\n",
    "6. 从本地上传本地最新更改：git push origin(远程库名称) main\n",
    "7. gitee/github创建远程库:\n",
    "        \n",
    "        1. 在gitee/github上创建远程库并获取远程库地址:git@github.com:ncucjm/notebook.git\n",
    "        2. git remote -v 在本地查看本地与远程库信息连接信息:\n",
    "        -------------------------\n",
    "                github(本地远程库名称)\tgit@github.com:AutoMachine0/Note.git (fetch)(远程库连接)\n",
    "                github(本地远程库名称)\tgit@github.com:AutoMachine0/Note.git (push)(远程库连接)\n",
    "        -------------------------\n",
    "        3. git remote rm origin(本地远程库名称) 删除远程库origin连接\n",
    "        4. github本地添加远程库连接:git remote add github(本地远程库名称) git@github.com:ncucjm/notebook.git (连接github远程库 notebook)\n",
    "        5. gitee本地添加远程库连接:git remote add gitee(本地远程库名称) git@gitee.com:ncucjm/notebook.git (连接gitee远程库 notebook)\n",
    "        6. 本地向github远程库notebook推送:git push github main(或master)\n",
    "        7. 本地向gitee远程库notebook推送:git push gitee main(或master)\n",
    "#####################################################\n",
    "切换github账户与远程库通信\n",
    "1. 查看本地与远程库通信账户\n",
    "    \n",
    "        1.git config user.name\n",
    "        2.git config user.email\n",
    "2. 修改本地与远程库通信账户\n",
    "        \n",
    "        1.git config --global user.name \"Your_github_account_name\"\n",
    "        2.git config --global user.email your_github_email\n",
    "3. 通过步骤1检查是否修改成功，修改成功后使用push命令上传即为修改账户上传"
   ]
  },
  {
   "cell_type": "markdown",
   "metadata": {},
   "source": [
    "## 从远程clone库并在本地修改后提交远程库\n",
    "\n",
    "1. 检查本地是否与git建立通信连接终端命令行\n",
    "```python\n",
    "    ssh -T git@github.com   \n",
    "```\n",
    "2. 若无建立通信连接则在本地文件夹执行以下代码构建远程库通讯连接\n",
    "\n",
    "    1. 终端输入命令行生成本地ssh私钥与公钥，命令行如下:\n",
    "           ssh-keygen -t rsa -C \"chenjiamin1024@gmail.com\" ;\n",
    "    2. 打开ssh key生成过程中包含私钥公钥的文件夹 .ssh;\n",
    "    3. 打开 id_rsa.pub 公钥文件并复制公钥;\n",
    "    4. 在github Settings——>SSH and GPG keys——>SSH keys中添加公钥并命名公钥名称;\n",
    "    5. 设置Git用户配置，保证在本地提交更新时，git主页有相应的更新信息，终端输入命令行如下:\n",
    "           \n",
    "           1.git config --global user.name \"AutoMachine0\";\n",
    "           2.git config --global user.email \"chenjiamin1024@gmail.com\"\n",
    "           3.检查Git用户配置是否成功命令行:\n",
    "               \n",
    "               (1).git config --global user.name \n",
    "               (2).git config --global user.email \n",
    "    \n",
    "    6. 再次检查本地是否与远程库建立通信连接输入命令行:\n",
    "           \n",
    "           ssh -T git@github.com\n",
    "    7. 输出内容如下表示本地已经与远程库建立通讯连接:\n",
    "           \n",
    "           Hi AutoMachine0! You've successfully authenticated, but GitHub does not provide shell access.\n",
    "\n",
    "3. 在git主页对应仓库Code——>SSH获取远程库ssh地址:\n",
    "\n",
    "```python   \n",
    "    git@github.com:AutoMachine0/Auto-MSR.git\n",
    "```\n",
    "4. 克隆远程库到本地: \n",
    "\n",
    "```python\n",
    "    git clone git@github.com:AutoMachine0/Auto-MSR.git\n",
    "```\n",
    "5. 在本地库添加修改并提交本地:\n",
    "\n",
    "```python\n",
    "    git add -A  \n",
    "    git commit -m\"update\"\n",
    "```\n",
    "\n",
    "6. 推送本地修改到远程库:\n",
    "\n",
    "```python   \n",
    "    git push origin(远程库名）main(远程库分支名2020/10/1不再是master为远程库默认分支名)\n",
    "```"
   ]
  }
 ],
 "metadata": {
  "kernelspec": {
   "display_name": "Python 3 (ipykernel)",
   "language": "python",
   "name": "python3"
  },
  "language_info": {
   "codemirror_mode": {
    "name": "ipython",
    "version": 3
   },
   "file_extension": ".py",
   "mimetype": "text/x-python",
   "name": "python",
   "nbconvert_exporter": "python",
   "pygments_lexer": "ipython3",
   "version": "3.9.7"
  }
 },
 "nbformat": 4,
 "nbformat_minor": 4
}
