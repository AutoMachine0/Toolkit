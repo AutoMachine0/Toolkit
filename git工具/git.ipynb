{
 "cells": [
  {
   "cell_type": "markdown",
   "metadata": {},
   "source": [
    "## github远程私有仓库不显示markdown图片，公开仓库可以正常显示markdown图片"
   ]
  },
  {
   "cell_type": "markdown",
   "metadata": {},
   "source": [
    "<img src=\"pic/1.png\"/>"
   ]
  },
  {
   "cell_type": "markdown",
   "metadata": {},
   "source": [
    "![pic](pic/2.png)\n",
    "![pic](pic/3.png)"
   ]
  },
  {
   "cell_type": "markdown",
   "metadata": {},
   "source": [
    "![pic](pic/4.png)\n",
    "![pic](pic/5.png)"
   ]
  },
  {
   "cell_type": "markdown",
   "metadata": {},
   "source": [
    "![pic](pic/6.png)"
   ]
  },
  {
   "cell_type": "markdown",
   "metadata": {},
   "source": [
    "![pic](pic/7.png)"
   ]
  },
  {
   "cell_type": "markdown",
   "metadata": {},
   "source": [
    "![pic](pic/8.png)"
   ]
  },
  {
   "cell_type": "markdown",
   "metadata": {},
   "source": [
    "## 在window与github构建远程链接\n",
    "1. ssh-keygen -t rsa -b 4096 -C \"chenjiamin1024@gmail.com\";\n",
    "2. 一直按回撤在默认路径生成密钥,默认公钥路径:C:\\Users\\ncucj\\.ssh;\n",
    "3. 打开公钥文件id_rsa.pub并复制公钥内容\n",
    "4. 登录github账号——>Settings——>SSH and GPG keys——>SSH keys(New SSH key)——>将公钥内容添加到SSH keys中;\n",
    "5. 在本地LocalGit中执行本地仓库初始化代码:git init\n",
    "6. 测试本地与远程github通讯:ssh -T git@github.com\n",
    "7. 通讯报错: kex_exchange_identification: read: Software caused connection abort or banner exchange: Connection to 20.205.243.166 port 22: Software caused connection abort\n",
    "8. 打开路径C:\\Users\\ncucj\\.ssh建立config文件输入下列代码修改通讯端口22改为443\n",
    "```python\n",
    "Host github.com\n",
    "  Hostname ssh.github.com\n",
    "  Port 443\n",
    "  User git\n",
    "  IdentityFile ~/.ssh/id_rsa\n",
    "```\n",
    "9. 再进行通讯测试:ssh -T git@github.com:测试结果为成功:Hi AutoMachine0! You've successfully authenticated, but GitHub does not provide shell access.\n",
    "\n",
    "## 从远程git库clone并在本地修改后提交远程库\n",
    "\n",
    "1. 检查本地是否与git建立通信连接终端命令行:\n",
    "\n",
    "       ssh -T git@github.com   \n",
    "\n",
    "2. 若无建立通信连接则在本地文件夹执行以下代码构建远程库通讯连接:\n",
    "\n",
    "    1. 终端输入命令行生成本地ssh私钥与公钥，命令行如下:\n",
    "           ssh-keygen -t rsa -C \"chenjiamin1024@gmail.com\" ;\n",
    "    2. 打开ssh key生成过程中包含私钥公钥的文件夹 .ssh;\n",
    "    3. 打开 id_rsa.pub 公钥文件并复制公钥;\n",
    "    4. 在github Settings——>SSH and GPG keys——>SSH keys中添加公钥并命名公钥名称;\n",
    "    5. 设置Git用户配置，保证在本地提交更新时，git主页有相应的更新信息，终端输入命令行如下:\n",
    "           \n",
    "           1.git config --global user.name \"AutoMachine0\";\n",
    "           2.git config --global user.email \"chenjiamin1024@gmail.com\"\n",
    "           3.检查Git用户配置是否成功命令行:\n",
    "               \n",
    "               (1).git config --global user.name \n",
    "               (2).git config --global user.email \n",
    "    \n",
    "    6. 再次检查本地是否与远程库建立通信连接输入命令行:\n",
    "           \n",
    "           ssh -T git@github.com\n",
    "    7. 输出内容如下表示本地已经与远程库建立通讯连接:\n",
    "           \n",
    "           Hi AutoMachine0! You've successfully authenticated, but GitHub does not provide shell access.\n",
    "\n",
    "3. 在git主页对应仓库Code——>SSH获取远程库ssh地址:\n",
    " \n",
    "       git@github.com:AutoMachine0/Auto-MSR.git\n",
    "        \n",
    "4. 克隆远程库到本地: \n",
    "\n",
    "       git clone git@github.com:AutoMachine0/Auto-MSR.git\n",
    "\n",
    "5. 在本地库添加修改并提交本地:\n",
    "\n",
    "       git add -A  \n",
    "       git commit -m\"update\"\n",
    "6. 查看远程分支信息:\n",
    "       \n",
    "       git branch -a 输出中: remotes/远程库名/分支名\n",
    "7. 推送本地修改到远程库:\n",
    "\n",
    "       git push origin(远程库名)main(远程库分支名2020/10/1不再是master为远程库默认分支名)"
   ]
  },
  {
   "cell_type": "markdown",
   "metadata": {
    "jupyter": {
     "source_hidden": true
    }
   },
   "source": [
    "## 不同终端本地git与远程git通信\n",
    "1. git remote -v 查看当前远程分支;\n",
    "2. git branch -a 输出中: remotes/远程库名/分支名;\n",
    "\n",
    "方式1:\n",
    "\n",
    "3. git pull origin main 拉取最新远程分支到本地并进行合并;\n",
    "4. git push gitee master本地分支的修改提交到远程分支.\n",
    "\n",
    "方式2:\n",
    "\n",
    "3. git fetch origin main(远程库名,分支名) 获取最新代码到本地;\n",
    "4. git log -p main origin/main(本地分支名，远程库名/分支名)，查看本地分支与远程分支版本差异;\n",
    "5. git merge origin/main(远程库名/分支名),合并本地分支;\n",
    "6. git push origin main本地分支的修改提交到远程分支."
   ]
  }
 ],
 "metadata": {
  "kernelspec": {
   "display_name": "Python [conda env:base] *",
   "language": "python",
   "name": "conda-base-py"
  },
  "language_info": {
   "codemirror_mode": {
    "name": "ipython",
    "version": 3
   },
   "file_extension": ".py",
   "mimetype": "text/x-python",
   "name": "python",
   "nbconvert_exporter": "python",
   "pygments_lexer": "ipython3",
   "version": "3.12.7"
  }
 },
 "nbformat": 4,
 "nbformat_minor": 4
}
