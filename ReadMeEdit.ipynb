{
 "cells": [
  {
   "cell_type": "markdown",
   "metadata": {},
   "source": [
    "## 导航\n",
    "\n",
    "#### git工具\n",
    "1.[git](https://github.com/AutoMachine0/Toolkit/blob/main/git%E5%B7%A5%E5%85%B7/git.ipynb)\n",
    "\n",
    "#### 环境配置\n",
    "1.[ubuntu虚拟机配置]\n",
    "\n",
    "#### pytorch建模\n",
    "**basic model**<br>\n",
    "1.[MLP](https://github.com/AutoMachine0/Toolkit/blob/main/torch%E5%BB%BA%E6%A8%A1/MLP/mlp.ipynb)<br>\n",
    "2.[LR](https://github.com/AutoMachine0/Toolkit/blob/main/torch%E5%BB%BA%E6%A8%A1/LR/logistic_regression.ipynb)<br>\n",
    "**sequence model**<br>\n",
    "1.[Word2Vec](https://github.com/AutoMachine0/Toolkit/blob/main/torch%E5%BB%BA%E6%A8%A1/Word2Vec/nnlm_word2vec(CBOW).ipynb)<br>\n",
    "2.[TextRNN](https://github.com/AutoMachine0/Toolkit/blob/main/torch%E5%BB%BA%E6%A8%A1/TextRNN/textrnn.ipynb)<br>\n",
    "3.[LSTM](https://github.com/AutoMachine0/Toolkit/tree/main/torch%E5%BB%BA%E6%A8%A1/LSTM)<br>\n",
    "4.[Seq2Seq](https://github.com/AutoMachine0/Toolkit/blob/main/torch%E5%BB%BA%E6%A8%A1/Seq2Seq/seq2seq.ipynb)<br>\n",
    "5.[Transformer](https://github.com/AutoMachine0/Toolkit/blob/main/torch%E5%BB%BA%E6%A8%A1/Transformer/transformer.ipynb)<br>\n",
    "**covolution model**<br>\n",
    "1.[TextCNN](https://github.com/AutoMachine0/Toolkit/blob/main/torch%E5%BB%BA%E6%A8%A1/TextCNN/textcnn.ipynb)\n",
    "\n",
    "#### pyg建模\n",
    "1.[pyg](https://github.com/AutoMachine0/Toolkit/blob/main/pyg%E5%BB%BA%E6%A8%A1/pyg.ipynb)\n",
    "\n",
    "#### python工具\n",
    "1.[matplotlib_作图](https://github.com/AutoMachine0/Toolkit/blob/main/python%E5%B7%A5%E5%85%B7/matplotlib_%E4%BD%9C%E5%9B%BE.ipynb)<br>\n",
    "2.[ray_函数与类并行](https://github.com/AutoMachine0/Toolkit/blob/main/python%E5%B7%A5%E5%85%B7/ray_%E5%87%BD%E6%95%B0%E4%B8%8E%E7%B1%BB%E5%B9%B6%E8%A1%8C.ipynb)<br>\n",
    "3.[tornado_web服务端应用](https://github.com/AutoMachine0/Toolkit/blob/main/python%E5%B7%A5%E5%85%B7/tornado_web%E6%9C%8D%E5%8A%A1%E7%AB%AF%E5%BA%94%E7%94%A8.ipynb)<br>\n",
    "4.[os_获取当前绝对路径](https://github.com/AutoMachine0/Toolkit/blob/main/python%E5%B7%A5%E5%85%B7/os_%E8%8E%B7%E5%8F%96%E5%BD%93%E5%89%8D%E7%BB%9D%E5%AF%B9%E8%B7%AF%E5%BE%84.ipynb)<br>\n",
    "5.[sched_定时任务](https://github.com/AutoMachine0/Toolkit/blob/main/python%E5%B7%A5%E5%85%B7/sched_%E5%AE%9A%E6%97%B6%E4%BB%BB%E5%8A%A1.ipynb)<br>\n",
    "6.[re_字符串过滤](https://github.com/AutoMachine0/Toolkit/blob/main/python%E5%B7%A5%E5%85%B7/re_%E5%AD%97%E7%AC%A6%E4%B8%B2%E8%BF%87%E6%BB%A4.ipynb)<br>\n",
    "7.[os_使用应用名进行进程守护](https://github.com/AutoMachine0/Toolkit/blob/main/python%E5%B7%A5%E5%85%B7/os_%E4%BD%BF%E7%94%A8%E5%BA%94%E7%94%A8%E5%90%8D%E8%BF%9B%E8%A1%8C%E8%BF%9B%E7%A8%8B%E5%AE%88%E6%8A%A4.ipynb)<br>\n",
    "8.[dict_字典按值排序](https://github.com/AutoMachine0/Toolkit/blob/main/python%E5%B7%A5%E5%85%B7/dict_%E5%AD%97%E5%85%B8%E6%8C%89%E5%80%BC%E6%8E%92%E5%BA%8F.ipynb)<br>\n",
    "9.[loggering_类中生成日志对象](https://github.com/AutoMachine0/Toolkit/blob/main/python%E5%B7%A5%E5%85%B7/loggering_%E7%B1%BB%E4%B8%AD%E7%94%9F%E6%88%90%E6%97%A5%E5%BF%97%E5%AF%B9%E8%B1%A1.ipynb)<br>\n",
    "10.[base64_位图解码](https://github.com/AutoMachine0/Toolkit/blob/main/python%E5%B7%A5%E5%85%B7/base64_%E4%BD%8D%E5%9B%BE%E8%A7%A3%E7%A0%81.ipynb)<br>\n",
    "11.[jieba_idf关键词挖掘](https://github.com/AutoMachine0/Toolkit/blob/main/python%E5%B7%A5%E5%85%B7/jieba_idf%E5%85%B3%E9%94%AE%E8%AF%8D%E6%8C%96%E6%8E%98.ipynb)<br>\n",
    "12.[flask_web服务](https://github.com/AutoMachine0/Toolkit/tree/main/python%E5%B7%A5%E5%85%B7/flask_web%E6%9C%8D%E5%8A%A1)<br>\n",
    "13.[bs4_爬虫应用](https://github.com/AutoMachine0/Toolkit/tree/main/python%E5%B7%A5%E5%85%B7/bs4_%E7%88%AC%E8%99%AB%E5%BA%94%E7%94%A8)<br>\n",
    "\n",
    "#### 方法思想\n",
    "1.[图神经网络](https://github.com/AutoMachine0/Toolkit/tree/main/%E6%96%B9%E6%B3%95%E6%80%9D%E6%83%B3/%E5%9B%BE%E7%A5%9E%E7%BB%8F%E7%BD%91%E7%BB%9C)<br>\n",
    "2.[数据结构与算法]（()（https://github.com/AutoMachine0/Toolkit/tree/main/%E6%96%B9%E6%B3%95%E6%80%9D%E6%83%B3/%E6%95%B0%E6%8D%AE%E7%BB%93%E6%9E%84%E4%B8%8E%E7%AE%97%E6%B3%95）"
   ]
  }
 ],
 "metadata": {
  "kernelspec": {
   "display_name": "Python [conda env:root] *",
   "language": "python",
   "name": "conda-root-py"
  },
  "language_info": {
   "codemirror_mode": {
    "name": "ipython",
    "version": 3
   },
   "file_extension": ".py",
   "mimetype": "text/x-python",
   "name": "python",
   "nbconvert_exporter": "python",
   "pygments_lexer": "ipython3",
   "version": "3.8.3"
  }
 },
 "nbformat": 4,
 "nbformat_minor": 4
}
