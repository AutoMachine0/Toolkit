{
 "cells": [
  {
   "cell_type": "markdown",
   "metadata": {},
   "source": [
    "# 目录\n",
    "\n",
    "## flask\n",
    "    1.flask基础\n",
    "## git使用\n",
    "    1.git使用总结\n",
    "## python功能代码块\n",
    "    1.base64位图片解码\n",
    "    2.loggering在类中生成日志对象\n",
    "    3.Tornado中间件\n",
    "    4.获取当前绝对路径\n",
    "    5.基于app名称的守护进程\n",
    "    6.基于sched的定时任务\n",
    "    7.基于应用名称的简单守护进程\n",
    "    8.基于语料库idf值得关键词挖掘（封装jieba分词）\n",
    "    9.将字典按值排序\n",
    "    10.字符串过滤\n",
    "## python库使用教程\n",
    "    1.PyG库\n",
    "    2.Ray库\n",
    "## pytorch建模\n",
    "    1.mlp\n",
    "## 面向对象编程\n",
    "    1.python面向对象编程\n",
    "## 爬虫\n",
    "    1.bs4静态页面爬取\n",
    "    2.爬虫概念\n",
    "## 软件与环境配置\n",
    "    1.深度学习环境配置问题经验\n",
    "    2.虚拟机—Ubuntu—相关环境配置\n",
    "## 数据结构与算法\n",
    "    1.BiLinkList\n",
    "    2.Deque\n",
    "    3.Graph\n",
    "    4.Linked-list\n",
    "    5.Queue\n",
    "    6.Stack\n",
    "    7.Tree\n",
    "    8.Rank\n",
    "    9.Rank_Search\n",
    "    10.RecurLinkList\n",
    "    11.Recursion\n",
    "## 图神经网络\n",
    "    1.图神经网络基础\n",
    "## 自然语言处理\n",
    "    1.bilstm \n",
    "    2.bilstm(attention)\n",
    "    3.logistic_regression\n",
    "    4.lstm\n",
    "    5.lstm_crf\n",
    "    6.nnlm_word2vec(CBOW)\n",
    "    7.seq2seq\n",
    "    8.textcnn\n",
    "    9.textrnn\n",
    "    10.transformer"
   ]
  }
 ],
 "metadata": {
  "kernelspec": {
   "display_name": "Python [conda env:root] *",
   "language": "python",
   "name": "conda-root-py"
  },
  "language_info": {
   "codemirror_mode": {
    "name": "ipython",
    "version": 3
   },
   "file_extension": ".py",
   "mimetype": "text/x-python",
   "name": "python",
   "nbconvert_exporter": "python",
   "pygments_lexer": "ipython3",
   "version": "3.8.3"
  }
 },
 "nbformat": 4,
 "nbformat_minor": 4
}
