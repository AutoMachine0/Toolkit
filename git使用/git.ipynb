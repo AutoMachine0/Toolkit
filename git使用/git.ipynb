{
 "cells": [
  {
   "cell_type": "markdown",
   "metadata": {},
   "source": [
    "## github远程私有仓库不显示markdown图片，公开仓库可以正常显示markdown图片"
   ]
  },
  {
   "cell_type": "markdown",
   "metadata": {},
   "source": [
    "<img src=\"pic/1.png\"/>"
   ]
  },
  {
   "cell_type": "markdown",
   "metadata": {},
   "source": [
    "![pic](pic/2.png)\n",
    "![pic](pic/3.png)"
   ]
  },
  {
   "cell_type": "markdown",
   "metadata": {},
   "source": [
    "![pic](pic/4.png)\n",
    "![pic](pic/5.png)"
   ]
  },
  {
   "cell_type": "markdown",
   "metadata": {},
   "source": [
    "![pic](pic/6.png)"
   ]
  },
  {
   "cell_type": "markdown",
   "metadata": {},
   "source": [
    "![pic](pic/7.png)"
   ]
  },
  {
   "cell_type": "markdown",
   "metadata": {},
   "source": [
    "![pic](pic/8.png)"
   ]
  },
  {
   "cell_type": "markdown",
   "metadata": {},
   "source": [
    "## 本地与远程通信\n",
    "### 在不同的机器上git文件，先拉取远程最新分支到本地(在ubuntu和window切换使用git时注意使用):\n",
    "1. git remote -v 查看当前远程分支\n",
    "2. git branch -a 输出中: remote/远程库名/分支名 \n",
    "3. git fetch gitee master(远程库名,分支名) 获取最新代码到本地\n",
    "4. git log -p master gitee/master(本地分支名，远程库名/分支名)，查看本地分支与远程分支版本差异\n",
    "5. git merge gitee/master(远程库名/分支名),合并本地分支\n",
    "6. 之后才能git push gitee master本地分支的更新到远程分支\n",
    "\n",
    "#################################################\n",
    "1. ssh-keygen -t rsa -C \"1300887184@qq.com\"\n",
    "2. 在home目录，cd .ssh 打开隐藏目录\n",
    "3. gedit id_rsa.pub 打开公钥文件复制全部内容\n",
    "4. 在远程ssh设置中添加秘钥\n",
    "5. 克隆远程库到本地:git clone https://github.com/ncucjm/notebook.git\n",
    "6. 从远程库跟新最新版本到本地：git pull\n",
    "7. 从本地上传本地最新更改：git push origin(远程库名称) master\n",
    "8. gitee/github创建远程库:\n",
    "        \n",
    "        1. 在gitee/github上创建远程库并获取远程库地址:git@github.com:ncucjm/notebook.git\n",
    "        2. git remote -v 在本地查看本地与远程库信息连接信息:\n",
    "        -------------------------\n",
    "                github(本地远程库名称)\tgit@github.com:AutoMachine0/Note.git (fetch)(远程库连接)\n",
    "                github(本地远程库名称)\tgit@github.com:AutoMachine0/Note.git (push)(远程库连接)\n",
    "        -------------------------\n",
    "        3. git remote rm origin(本地远程库名称) 删除远程库origin连接\n",
    "        4. github本地添加远程库连接:git remote add github(本地远程库名称) git@github.com:ncucjm/notebook.git (连接github远程库 notebook)\n",
    "        5. gitee本地添加远程库连接:git remote add gitee(本地远程库名称) git@gitee.com:ncucjm/notebook.git (连接gitee远程库 notebook)\n",
    "        6. 本地向github远程库notebook推送:git push github main(或master)\n",
    "        7. 本地向gitee远程库notebook推送:git push gitee main(或master)\n",
    "#####################################################\n",
    "切换github账户与远程库通信\n",
    "1. 查看本地与远程库通信账户\n",
    "    \n",
    "        1.git config user.name\n",
    "        2.git config user.email\n",
    "2. 修改本地与远程库通信账户\n",
    "        \n",
    "        1.git config --global user.name \"Your_github_account_name\"\n",
    "        2.git config --global user.email your_github_email\n",
    "3. 通过步骤1检查是否修改成功，修改成功后使用push命令上传即为修改账户上传"
   ]
  },
  {
   "cell_type": "markdown",
   "metadata": {},
   "source": [
    "## gitee拉取github项目\n",
    "![pic](pic/gitee1.png)\n",
    "![pic](pic/gitee2.png)"
   ]
  },
  {
   "cell_type": "markdown",
   "metadata": {},
   "source": [
    "## 从远程clone库并在本地修改后提交远程库\n",
    "1. 获取远程库ssh地址:\n",
    "    \n",
    "    git@github.com:AutoMachine0/Auto-MSR.git\n",
    "\n",
    "2. 克隆远程库到本地: \n",
    "\n",
    "    git clone git@github.com:AutoMachine0/Auto-MSR.git\n",
    "3. 进入clone的远程库目录输入github用户名与邮箱:\n",
    "\n",
    "    git config --global user.name AutoMachine0(github用户名)\n",
    "    \n",
    "    git config --global user.email chenjiamin_ai@outlook.com(github邮箱)\n",
    "3. 在本地库添加修改并提交本地:\n",
    "\n",
    "    git add . / git commit -m\"local sumbit\"\n",
    "4. 查看远程库连接情况: git remote -v\n",
    "        \n",
    "    origin(远程库名)\tgit@github.com:AutoMachine0/Auto-MSR.git (fetch)\n",
    "    \n",
    "    origin(远程库名)\tgit@github.com:AutoMachine0/Auto-MSR.git (push)\n",
    "\n",
    "5. 推送本地修改到远程库:\n",
    "    \n",
    "    git push origin(远程库名）main(远程库分支名2020/10/1不再是master为远程库默认分支名)"
   ]
  }
 ],
 "metadata": {
  "kernelspec": {
   "display_name": "Python 3",
   "language": "python",
   "name": "python3"
  },
  "language_info": {
   "codemirror_mode": {
    "name": "ipython",
    "version": 3
   },
   "file_extension": ".py",
   "mimetype": "text/x-python",
   "name": "python",
   "nbconvert_exporter": "python",
   "pygments_lexer": "ipython3",
   "version": "3.8.3"
  }
 },
 "nbformat": 4,
 "nbformat_minor": 2
}
