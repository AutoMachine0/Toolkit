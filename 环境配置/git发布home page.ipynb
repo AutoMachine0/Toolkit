{
 "cells": [
  {
   "cell_type": "markdown",
   "metadata": {},
   "source": [
    "### 1.克隆简历仓库到本地\n",
    "```python\n",
    "git clone https://github.com/AutoMachine0/AutoMachine0.github.io.git\n",
    "```\n",
    "### 2.在本地安转Ruby与Jekyll进行简历本地修改\n",
    "1. Ruby下载域名:https://www.ruby-lang.org/en/\n",
    "2. Jekyll Ubuntu安装:https://jekyllrb.com/ \n",
    "3. Jekyll Windows安装:https://darjun.github.io/2018/03/08/install-jekyll-on-windows/\n",
    "\n",
    "### 3.进入克隆仓库对简历进行修改\n",
    "```python\n",
    "cd AutoMachine0.github.io\n",
    "1. _config.yml 修改 侧栏基本信息 姓名/联系方式/google学术/github主页\n",
    "2. index.md 修改 About me/Research Interests/Experience\n",
    "3. _data/pubulications.yml 修改 Selected Publications 内容\n",
    "4. _includes/pubulication.md 修改 \"Selected Publications\"文本\n",
    "5. _includes/services.md 修改 Services/All Publications/Patent/Teaching Assistant/Selected Honors and Awards\n",
    "6. assets/img 修改 Selected Publications中的图片/Experience中的Logo/网页签页Logo/个人照片\n",
    "```\n",
    "\n",
    "### 4.在AutoMachine0.github.io中启动本地简历预览\n",
    "```python\n",
    "1. bundle install(第一次安装后,下次启动可不再执行此命令)\n",
    "2. bundle exec jekyll server\n",
    "3. 打开浏览器输入域名:http://localhost:4000查看预览效果\n",
    "```\n",
    "### 5.Github发布本地电子简历\n",
    "```python\n",
    "1. 在git上创建远程仓库New repository——>resume(仓库名)\n",
    "2. 将远程仓库克隆到本地，将AutoMachine0.github.io文件夹所有内容复制至新仓库resume,并推送到远程仓库\n",
    "3. 将远程仓库resume设置为github page进行发布，操作如下图所示:\n",
    "```\n",
    "<div align=\"center\">\n",
    "  <img src=\"pic/homepage.png\" width=\"1000\" height=\"1000\" />\n",
    "</div>\n",
    "<div align=\"center\">\n",
    "  <img src=\"pic/homepage1.png\" width=\"1000\" height=\"1000\" />\n",
    "</div>"
   ]
  }
 ],
 "metadata": {
  "kernelspec": {
   "display_name": "Python 3",
   "language": "python",
   "name": "python3"
  },
  "language_info": {
   "codemirror_mode": {
    "name": "ipython",
    "version": 3
   },
   "file_extension": ".py",
   "mimetype": "text/x-python",
   "name": "python",
   "nbconvert_exporter": "python",
   "pygments_lexer": "ipython3",
   "version": "3.8.3"
  }
 },
 "nbformat": 4,
 "nbformat_minor": 4
}
