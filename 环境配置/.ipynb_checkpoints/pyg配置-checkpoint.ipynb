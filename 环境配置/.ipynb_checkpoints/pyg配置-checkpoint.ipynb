{
 "cells": [
  {
   "cell_type": "markdown",
   "metadata": {},
   "source": [
    "### 1.torch老版本安装\n",
    "以torch 1.12.0为例\n",
    "1.在terminal创建conda环境\n",
    "```python\n",
    "conda create -n py3.7torch1.12.0pyg2.1.0 python==3.7\n",
    "```\n",
    "2.激活创建的conda环境\n",
    "```python\n",
    "source activate py3.7torch1.12.0pyg2.1.0\n",
    "```\n",
    "3.进入torch previous version网站选择对应torch版本，并首先考虑使用conda命令下载:\n",
    "\n",
    "https://pytorch.org/get-started/previous-versions/\n",
    "```python\n",
    "conda install pytorch==1.12.0 torchvision==0.13.0 torchaudio==0.12.0 cudatoolkit=11.3 -c pytorch\n",
    "```\n",
    "<div align=\"center\">\n",
    "  <img src=\"pic/torch1.png\" width=\"500\" height=\"500\" />\n",
    "</div>\n",
    "\n",
    "### 2.pyg老版本安装\n",
    "以pyg2.1.0为例\n",
    "\n",
    "1.进入pyg官网在latest中找到对应版本并进入installation选项卡:\n",
    "\n",
    "https://pytorch-geometric.readthedocs.io/en/latest/notes/installation.html\n",
    "\n",
    "<div align=\"center\">\n",
    "  <img src=\"pic/pyg1.png\" width=\"350\" height=\"350\" />\n",
    "</div>\n",
    "\n",
    "2.查看是否配置了国内pip下载源:\n",
    "\n",
    "```python\n",
    "vim ~/.pip/pip.conf\n",
    "```\n",
    "<div align=\"center\">\n",
    "  <img src=\"pic/pyg2.png\" width=\"350\" height=\"350\" />\n",
    "</div>\n",
    "如果没有配置国内pip源，配置国内pip源后再进行pip install安装:\n",
    "\n",
    "```python\n",
    "pip config set global.index-url https://pypi.tuna.tsinghua.edu.cn/simple\n",
    "```\n",
    "\n",
    "3.使用pyg老版本的Installation via Pip Wheels方式安装具体步骤如下:\n",
    "<div align=\"center\">\n",
    "  <img src=\"pic/pyg3.png\" width=\"350\" height=\"350\" />\n",
    "</div>\n",
    "其中torch-geometric的安装带上版本号:\n",
    "\n",
    "```python\n",
    "pip install torch-geometric==2.1.0\n",
    "```"
   ]
  }
 ],
 "metadata": {
  "kernelspec": {
   "display_name": "Python [conda env:root] *",
   "language": "python",
   "name": "conda-root-py"
  },
  "language_info": {
   "codemirror_mode": {
    "name": "ipython",
    "version": 3
   },
   "file_extension": ".py",
   "mimetype": "text/x-python",
   "name": "python",
   "nbconvert_exporter": "python",
   "pygments_lexer": "ipython3",
   "version": "3.8.3"
  }
 },
 "nbformat": 4,
 "nbformat_minor": 4
}
