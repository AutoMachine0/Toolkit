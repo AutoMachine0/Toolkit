{
 "cells": [
  {
   "cell_type": "markdown",
   "metadata": {},
   "source": [
    "### 1.flask最小应用案例"
   ]
  },
  {
   "cell_type": "code",
   "execution_count": null,
   "metadata": {},
   "outputs": [],
   "source": [
    "from flask import Flask\n",
    "app = Flask(__name__)\n",
    "\n",
    "@app.route(\"/\")\n",
    "def hello_world():\n",
    "    return \"<p>Hello, World!</p>\"\n",
    "\n",
    "app.run()"
   ]
  },
  {
   "cell_type": "markdown",
   "metadata": {},
   "source": [
    "### 2.设置路由匹配, 路由接收请求设置"
   ]
  },
  {
   "cell_type": "code",
   "execution_count": null,
   "metadata": {},
   "outputs": [],
   "source": [
    "from flask import Flask\n",
    "app = Flask(__name__)\n",
    "\n",
    "# 路由重名, flask自动选择第一个路由函数执行\n",
    "@app.route('/hello', methods=['GET','POST'])\n",
    "def hello():\n",
    "    return \"hello world\"\n",
    "\n",
    "@app.route('/hi', methods=['POST'])\n",
    "def hi():\n",
    "    return \"hi\"\n",
    "\n",
    "app.run()"
   ]
  },
  {
   "cell_type": "markdown",
   "metadata": {},
   "source": [
    "### 3.路由文本与函数变量匹配 <函数需要匹配的变量>"
   ]
  },
  {
   "cell_type": "code",
   "execution_count": null,
   "metadata": {},
   "outputs": [],
   "source": [
    "from flask import Flask\n",
    "app = Flask(__name__)\n",
    "\n",
    "@app.route('/user/<match_var>')\n",
    "def index(match_var):\n",
    "    if match_var == '1':\n",
    "        return \"python\"\n",
    "    if match_var == '2':\n",
    "        return \"django\"\n",
    "    if match_var == '3':\n",
    "        return \"flask\"\n",
    "    return \"hello world\"\n",
    "\n",
    "app.run()"
   ]
  },
  {
   "cell_type": "markdown",
   "metadata": {},
   "source": [
    "### 4.路由文本预定转换器"
   ]
  },
  {
   "cell_type": "code",
   "execution_count": null,
   "metadata": {},
   "outputs": [],
   "source": [
    "from flask import Flask\n",
    "app = Flask(__name__)\n",
    "\n",
    "# @app.route('/user/<float:match_var>') # 路由文本转换成正浮点数给变量\n",
    "# @app.route('/user/<int:match_var>') # 路由文本转换成正整数给变量\n",
    "# @app.route('/user/<string:match_var>') # 路由文本转换成不能带/的文本给变量\n",
    "@app.route('/user/<path:match_var>') # 路由文本转换成可带/的文本给变量\n",
    "def user(match_var):\n",
    "    if match_var == \"p/ython\":\n",
    "        return \"python\"\n",
    "    if match_var == \"d/jango\":\n",
    "        return \"django\"\n",
    "    if match_var == \"f/lask\":\n",
    "        return \"flask\"\n",
    "    return \"hello world\"\n",
    "\n",
    "app.run()"
   ]
  },
  {
   "cell_type": "markdown",
   "metadata": {},
   "source": [
    "### 5.前端html表单"
   ]
  },
  {
   "cell_type": "code",
   "execution_count": null,
   "metadata": {},
   "outputs": [],
   "source": [
    "from flask import Flask\n",
    "app = Flask(__name__)\n",
    "\n",
    "# html文件需放在templates命名的文件内，且templates文件目录与web程序目录一致\n",
    "# 可以在html设置请求类型设置,在web路由端需要进行配置,flask web 路由端默认接收get请求\n",
    "\n",
    "from flask import render_template\n",
    "@app.route('/index',methods=['GET','POST'] )\n",
    "def index():\n",
    "    return render_template('index.html')\n",
    "\n",
    "app.run()"
   ]
  },
  {
   "cell_type": "markdown",
   "metadata": {},
   "source": [
    "### 6.request请求web消息解析"
   ]
  },
  {
   "cell_type": "code",
   "execution_count": null,
   "metadata": {},
   "outputs": [],
   "source": [
    "from flask import Flask\n",
    "app = Flask(__name__)\n",
    "\n",
    "# 使用request包捕获前端get请求与post请求\n",
    "from flask import render_template, request\n",
    "\n",
    "@app.route('/index',methods=['GET','POST'] )\n",
    "def index():\n",
    "    if request.method == \"GET\":\n",
    "        return render_template('index.html')\n",
    "    if request.method == \"POST\":\n",
    "        name = request.form.get('name')\n",
    "        password = request.form.get('password')\n",
    "        print(\"pos别t request\", name, password)\n",
    "        return \"this is post request\"\n",
    "    \n",
    "app.run()"
   ]
  },
  {
   "cell_type": "markdown",
   "metadata": {},
   "source": [
    "### 7.重定向"
   ]
  },
  {
   "cell_type": "code",
   "execution_count": null,
   "metadata": {},
   "outputs": [],
   "source": [
    "from flask import Flask\n",
    "app = Flask(__name__)\n",
    "\n",
    "# 当原域名失效时,使用重定向可以自动链接到新的域名\n",
    "# 当原域名失效时,使用重定向可以自动访问web服务其他方法\n",
    "\n",
    "from flask import redirect, url_for\n",
    "\n",
    "@app.route('/index')\n",
    "def index():\n",
    "\n",
    "    #return redirect(\"https://www.baidu.com\")\n",
    "\n",
    "    return redirect(url_for('hello'))\n",
    "\n",
    "@app.route('/')\n",
    "def hello():\n",
    "    return \"this is web server inner function\"\n",
    "\n",
    "app.run()"
   ]
  },
  {
   "cell_type": "markdown",
   "metadata": {},
   "source": [
    "### 8.web服务返回json数据给前端"
   ]
  },
  {
   "cell_type": "code",
   "execution_count": null,
   "metadata": {},
   "outputs": [],
   "source": [
    "from flask import Flask\n",
    "app = Flask(__name__)\n",
    "\n",
    "from flask import jsonify\n",
    "# JSON中文字符串输出ASCII设置\n",
    "app.config['JSON_AS_ASCII'] = False\n",
    "\n",
    "@app.route('/index')\n",
    "def index():\n",
    "    data = {'name': \"自动机器学习\"}\n",
    "    return jsonify(data)\n",
    "\n",
    "app.run()"
   ]
  },
  {
   "cell_type": "markdown",
   "metadata": {},
   "source": [
    "### 9.web端抛出请求异常"
   ]
  },
  {
   "cell_type": "code",
   "execution_count": null,
   "metadata": {},
   "outputs": [],
   "source": [
    "from flask import Flask\n",
    "app = Flask(__name__)\n",
    "\n",
    "from flask import abort, request, render_template\n",
    "\n",
    "@app.route('/',methods=['GET',\"POST\"])\n",
    "def index():\n",
    "    if request.method == 'GET':\n",
    "        return render_template('index.html')\n",
    "    if request.method == \"POST\":\n",
    "        name = request.form.get(\"name\")\n",
    "        password = request.form.get(\"password\")\n",
    "        if name == \"automl\" and password == \"123\":\n",
    "            return 'login success'\n",
    "        else:\n",
    "            #异常抛出函数,异常状态码有规范\n",
    "            abort(404)\n",
    "            return None\n",
    "        \n",
    "app.run()"
   ]
  },
  {
   "cell_type": "markdown",
   "metadata": {},
   "source": [
    "### 10. web端抛出异常自定义"
   ]
  },
  {
   "cell_type": "code",
   "execution_count": null,
   "metadata": {},
   "outputs": [],
   "source": [
    "from flask import Flask\n",
    "app = Flask(__name__)\n",
    "\n",
    "# 返回图片资源时注意将图片信息放入static文件中\n",
    "\n",
    "from flask import abort, request, render_template\n",
    "\n",
    "@app.route('/',methods=['GET',\"POST\"])\n",
    "def index():\n",
    "    if request.method == 'GET':\n",
    "        return render_template('index.html')\n",
    "    if request.method == \"POST\":\n",
    "        name = request.form.get(\"name\")\n",
    "        password = request.form.get(\"password\")\n",
    "        if name == \"automl\" and password == \"123\":\n",
    "            return 'login success'\n",
    "        else:\n",
    "            # 网页抛出异常\n",
    "            abort(404) # bort函数异常状态码有取值规范\n",
    "            return None\n",
    "# 异常处理函数       \n",
    "@app.errorhandler(404) # 对应bort函数异常状态码\n",
    "def handle_404_exception(err):# 注意err参数必须写\n",
    "    return render_template('404.html')\n",
    "\n",
    "app.run()"
   ]
  },
  {
   "cell_type": "markdown",
   "metadata": {},
   "source": [
    "### 11. 前端 jinjia2 语法获取web端数据"
   ]
  },
  {
   "cell_type": "code",
   "execution_count": null,
   "metadata": {},
   "outputs": [],
   "source": [
    "from flask import Flask\n",
    "app = Flask(__name__)\n",
    "\n",
    "# p11 jinjia2 语法\n",
    "#1.从web端获取数据{{}},web端向前端传输数据\n",
    "#2.默认过滤器处理前端字符串\n",
    "\n",
    "from flask import render_template\n",
    "\n",
    "@app.route('/')\n",
    "def index():\n",
    "    data = {\n",
    "        \"name\": \"automl\",\n",
    "        \"password\": \"10\",\n",
    "        \"mylist\":[1,2,3]\n",
    "    }\n",
    "    return render_template('index1.html', data=data)\n",
    "\n",
    "app.run()"
   ]
  },
  {
   "cell_type": "markdown",
   "metadata": {},
   "source": [
    "### 12.web端自定义前端数据处理过滤器"
   ]
  },
  {
   "cell_type": "code",
   "execution_count": null,
   "metadata": {},
   "outputs": [],
   "source": [
    "from flask import Flask\n",
    "app = Flask(__name__)\n",
    "\n",
    "from flask import render_template\n",
    "\n",
    "@app.route('/')\n",
    "def index():\n",
    "    data = {\n",
    "        \"name\": \"automl\",\n",
    "        \"password\": \"10\",\n",
    "        \"mylist\":[1,2,3]\n",
    "    }\n",
    "    return render_template('index2.html', data=data)\n",
    "\n",
    "def my_filter(x):\n",
    "    return x[::2]\n",
    "\n",
    "# 在web端注册自动过滤器\n",
    "# 第一个参数为自定义过滤器函数名,\n",
    "# 第二个参数为前端使用自动以过滤器名;\n",
    "app.add_template_filter(my_filter, 'my_filter')\n",
    "\n",
    "app.run()"
   ]
  },
  {
   "cell_type": "markdown",
   "metadata": {},
   "source": [
    "### 13.flask web端表单实现"
   ]
  },
  {
   "cell_type": "code",
   "execution_count": null,
   "metadata": {},
   "outputs": [],
   "source": [
    "from flask import Flask\n",
    "app = Flask(__name__)\n",
    "\n",
    "# 需要库:wtforms, flask_wtf\n",
    "# 进行表单验证时,注意在HTML中写入 {{ form.csrf_token }}\n",
    "\n",
    "from flask_wtf import FlaskForm\n",
    "from flask import request, render_template\n",
    "from wtforms.validators import DataRequired, EqualTo\n",
    "from wtforms import StringField, PasswordField, SubmitField\n",
    "\n",
    "app.config[\"SECRET_KEY\"] = \"xhosd6f982yfhowefy29f\"\n",
    "\n",
    "# 定义表单模型类\n",
    "class Register(FlaskForm):\n",
    "    user_name = StringField(label=\"用户名:\", validators=[DataRequired(\"数据不能为空\")])\n",
    "    password = PasswordField(label=\"密码:\", validators=[DataRequired(\"密码不能为空\")])\n",
    "    re_password = PasswordField(label=\"再次输入密码:\", validators=[DataRequired(\"密码不能为空\"), EqualTo(\"password\", \"两次密码不一致\")])\n",
    "    submit = SubmitField(label=\"提交\")\n",
    "\n",
    "@app.route(\"/\", methods=['POST','GET'])\n",
    "def index():\n",
    "    # 创建表单对象\n",
    "    form = Register()\n",
    "    if request.method == 'GET':\n",
    "        return render_template('webform.html', form=form)\n",
    "    if request.method == 'POST':\n",
    "        # .validate_on_submit()方法开启验证器\n",
    "        user_name = form.user_name.data\n",
    "        password = form.password.data\n",
    "        re_password = form.re_password.data\n",
    "        print(user_name)\n",
    "        print(password)\n",
    "        print(re_password)\n",
    "        # .validate_on_submit()表单验证方法,HTML 需写入 {{ form.csrf_token }}\n",
    "        if form.validate_on_submit():\n",
    "            print(\"验证成功\")\n",
    "            return \"welcome\"\n",
    "        else:\n",
    "            print(\"验证失败\")\n",
    "            return render_template('webform.html', form=form)\n",
    "\n",
    "app.run()"
   ]
  }
 ],
 "metadata": {
  "kernelspec": {
   "display_name": "Python 3",
   "language": "python",
   "name": "python3"
  },
  "language_info": {
   "codemirror_mode": {
    "name": "ipython",
    "version": 3
   },
   "file_extension": ".py",
   "mimetype": "text/x-python",
   "name": "python",
   "nbconvert_exporter": "python",
   "pygments_lexer": "ipython3",
   "version": "3.8.3"
  }
 },
 "nbformat": 4,
 "nbformat_minor": 4
}
